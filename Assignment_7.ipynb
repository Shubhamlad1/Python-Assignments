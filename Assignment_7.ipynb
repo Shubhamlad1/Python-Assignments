{
 "cells": [
  {
   "cell_type": "markdown",
   "id": "ab35feb6",
   "metadata": {},
   "source": [
    "1.\tWhat is the name of the feature responsible for generating Regex objects?\n"
   ]
  },
  {
   "cell_type": "markdown",
   "id": "af978321",
   "metadata": {},
   "source": [
    "Ans: re module is a responsible for regex objects. You have to import the re module."
   ]
  },
  {
   "cell_type": "markdown",
   "id": "9953b378",
   "metadata": {},
   "source": [
    "2.\tWhy do raw strings often appear in Regex objects?\n"
   ]
  },
  {
   "cell_type": "markdown",
   "id": "a2326726",
   "metadata": {},
   "source": [
    "Ans: Raw string are generally used in a regex modules so that backslashes should not be escaped.  Or some other special functions we can use as it is."
   ]
  },
  {
   "cell_type": "markdown",
   "id": "f192591a",
   "metadata": {},
   "source": [
    "3.\tWhat is the return value of the search() method?\n"
   ]
  },
  {
   "cell_type": "markdown",
   "id": "5afbba0e",
   "metadata": {},
   "source": [
    "Ans: it will give the matches of the first occurrences of the word we have searched for and span of the that word as well. Eg- span=(63, 65), match='is'.  If given word is not present it will return none."
   ]
  },
  {
   "cell_type": "markdown",
   "id": "622e59e1",
   "metadata": {},
   "source": [
    "4.\tFrom a Match item, how do you get the actual strings that match the pattern?\n"
   ]
  },
  {
   "cell_type": "markdown",
   "id": "68fa0e34",
   "metadata": {},
   "source": [
    "Ans: By using the below group command we can get the match pattern as a string.\n",
    "Import re\n",
    "S= “I am learning in I-neuron”\n",
    "Find_match = (“matches:” , len(re.findall(“I-neuron” , s)))\n",
    "Print(Find_match)\n",
    "Result: It will print result as Matches: 1"
   ]
  },
  {
   "cell_type": "markdown",
   "id": "bcd9a21b",
   "metadata": {},
   "source": [
    "5.\tIn the regex which created from the r'(\\d\\d\\d)-(\\d\\d\\d-\\d\\d\\d\\d)', what does group zero cover? Group 2? Group 1?\n"
   ]
  },
  {
   "cell_type": "markdown",
   "id": "f35bc9c2",
   "metadata": {},
   "source": [
    "Ans: Group0: zero group covers all the things in the row string.\n",
    "Group1: Group 1 contains \\d\\d\\d\n",
    "Group2: Group 2 contains \\d\\d\\d-\\d\\d\\d\\d"
   ]
  },
  {
   "cell_type": "markdown",
   "id": "d10abab0",
   "metadata": {},
   "source": [
    "6.\tIn standard expression syntax, parentheses and intervals have distinct meanings. How can you tell a regex that you want it to fit real parentheses and periods?\n"
   ]
  },
  {
   "cell_type": "markdown",
   "id": "6627fcf1",
   "metadata": {},
   "source": [
    "Ans: we can put \\ in front of it"
   ]
  },
  {
   "cell_type": "markdown",
   "id": "aa300f28",
   "metadata": {},
   "source": [
    "7.\tThe findall() method returns a string list or a list of string tuples. What causes it to return one of the two options?\n"
   ]
  },
  {
   "cell_type": "markdown",
   "id": "d92c8579",
   "metadata": {},
   "source": [
    "Ans: Because it goes value by value and append it in the list"
   ]
  },
  {
   "cell_type": "markdown",
   "id": "e135e3fd",
   "metadata": {},
   "source": [
    "8.\tIn standard expressions, what does the | character mean?\n"
   ]
  },
  {
   "cell_type": "markdown",
   "id": "9d12745c",
   "metadata": {},
   "source": [
    "Ans: | this character means either or"
   ]
  },
  {
   "cell_type": "markdown",
   "id": "5b4ab7ce",
   "metadata": {},
   "source": [
    "9.\tIn regular expressions, what does the character stand for?\n"
   ]
  },
  {
   "cell_type": "markdown",
   "id": "071eb8b7",
   "metadata": {},
   "source": [
    "Ans: In regular expression characcter stands for search patterns. It given input to the computer what kind data we need to perform find and search like operations "
   ]
  },
  {
   "cell_type": "markdown",
   "id": "d18a08aa",
   "metadata": {},
   "source": [
    "10.In regular expressions, what is the difference between the + and * characters?\n"
   ]
  },
  {
   "cell_type": "markdown",
   "id": "6a18cf2e",
   "metadata": {},
   "source": [
    "Ans: + and * are called as meta character in the regular expressions.\n",
    "+ : give the information about one or more occurrences \n",
    "* : Gives the information about zero or more occurrences."
   ]
  },
  {
   "cell_type": "markdown",
   "id": "f2608d16",
   "metadata": {},
   "source": [
    "11. What is the difference between {4} and {4,5} in regular expression?\n"
   ]
  },
  {
   "cell_type": "markdown",
   "id": "f641351b",
   "metadata": {},
   "source": [
    "Ans: {} this braces belongs to the quantifier category in regular expressions\n",
    "{} this brackests are used in regular expressions for finding specified number of occurrences. For example- \\d{4}: This expression will give input as a integer number but with 4 occurrences.\n",
    "\\d{4,5} : This will also give output as a integers but for 4 or 5 occurrences.  "
   ]
  },
  {
   "cell_type": "markdown",
   "id": "0c410a8f",
   "metadata": {},
   "source": [
    "12. What do you mean by the \\d, \\w, and \\s shorthand character classes signify in regular expressions?\n"
   ]
  },
  {
   "cell_type": "markdown",
   "id": "88c91cb0",
   "metadata": {},
   "source": [
    "Ans: \\d : Returns a match if specified character contains digits from 0-9\n",
    "\\w: Returns a match if specified character contains digits like a-z, A-Z, 0-9, _\n",
    "\\s: Returns a match when it contains white space character. "
   ]
  },
  {
   "cell_type": "markdown",
   "id": "b04d2408",
   "metadata": {},
   "source": [
    "13. What do means by \\D, \\W, and \\S shorthand character classes signify in regular expressions?\n"
   ]
  },
  {
   "cell_type": "markdown",
   "id": "2ac83c48",
   "metadata": {},
   "source": [
    "Ans: \\D: Returns a match when string does not contain any digits.\n",
    "\\W: Returns a match when string does not contain any word in it.\n",
    "\\S: Returns a match when string does not contain any white space character."
   ]
  },
  {
   "cell_type": "markdown",
   "id": "baf2a34f",
   "metadata": {},
   "source": [
    "14. What is the difference between .*? and .*?\n"
   ]
  },
  {
   "cell_type": "markdown",
   "id": "02ddfb47",
   "metadata": {},
   "source": [
    "Ans: ? matches 0 or 1 of the preceding re (greedy Version)\n",
    "*? This is basical non greedy version of above"
   ]
  },
  {
   "cell_type": "markdown",
   "id": "73887a4c",
   "metadata": {},
   "source": [
    "15. What is the syntax for matching both numbers and lowercase letters with a character class?\n"
   ]
  },
  {
   "cell_type": "markdown",
   "id": "d5948590",
   "metadata": {},
   "source": [
    "Ans: (“matches:” , len(re.findall(“[a-z][0-9]” , string_name)))"
   ]
  },
  {
   "cell_type": "markdown",
   "id": "c63d84ad",
   "metadata": {},
   "source": [
    "16. What is the procedure for making a normal expression in regax case insensitive?\n"
   ]
  },
  {
   "cell_type": "markdown",
   "id": "c9f7f1b6",
   "metadata": {},
   "source": [
    "Ans: 1. Using case sensitive flag\n",
    "2. using modifire"
   ]
  },
  {
   "cell_type": "markdown",
   "id": "70dec4ce",
   "metadata": {},
   "source": [
    "17. What does the . character normally match? What does it match if re.DOTALL is passed as 2nd argument in re.compile()?\n"
   ]
  },
  {
   "cell_type": "markdown",
   "id": "df779b13",
   "metadata": {},
   "source": [
    "Ans: it matches values to values. \n",
    "If re. DOTALL is passed as the second argument to re. compile(), then the dot will also match newline characters."
   ]
  },
  {
   "cell_type": "markdown",
   "id": "198fcf7b",
   "metadata": {},
   "source": [
    "18. If numReg = re.compile(r'\\d+'), what will numRegex.sub('X', '11 drummers, 10 pipers, five rings, 4 hen') return?\n"
   ]
  },
  {
   "cell_type": "markdown",
   "id": "9b0d14b3",
   "metadata": {},
   "source": [
    "And: it will compile all the digits which is 1 or more then 1 and replaces it with the X"
   ]
  },
  {
   "cell_type": "markdown",
   "id": "0f5f8f14",
   "metadata": {},
   "source": [
    "19. What does passing re.VERBOSE as the 2nd argument to re.compile() allow to do?\n"
   ]
  },
  {
   "cell_type": "markdown",
   "id": "71dadd8f",
   "metadata": {},
   "source": [
    "The re. VERBOSE argument allows you to add whitespace and comments to the string passed to re."
   ]
  },
  {
   "cell_type": "markdown",
   "id": "fd95b345",
   "metadata": {},
   "source": [
    "20. How would you write a regex that match a number with comma for every three digits? It must match the given following:\n",
    "'42'\n",
    "'1,234'\n",
    "'6,368,745'\n",
    "but not the following:\n",
    "'12,34,567' (which has only two digits between the commas)\n",
    "'1234' (which lacks commas)\n"
   ]
  },
  {
   "cell_type": "markdown",
   "id": "b861a817",
   "metadata": {},
   "source": [
    "`Ans: Regex to match the number with the comma after 3 didgits:\n",
    "(“matches:”, len(re.findall(“\\d{1,3},” , string_name)))"
   ]
  },
  {
   "cell_type": "markdown",
   "id": "11ce2401",
   "metadata": {},
   "source": [
    "21. How would you write a regex that matches the full name of someone whose last name is Watanabe? You can assume that the first name that comes before it will always be one word that begins with a capital letter. The regex must match the following:\n",
    "'Haruto Watanabe'\n",
    "'Alice Watanabe'\n",
    "'RoboCop Watanabe'\n",
    "but not the following:\n",
    "'haruto Watanabe' (where the first name is not capitalized)\n",
    "'Mr. Watanabe' (where the preceding word has a nonletter character)\n",
    "'Watanabe' (which has no first name)\n",
    "'Haruto watanabe' (where Watanabe is not capitalized)\n",
    "\n"
   ]
  },
  {
   "cell_type": "markdown",
   "id": "05a44106",
   "metadata": {},
   "source": [
    "Ans: (\"matches:\" , len(re.findall(\"\\w*\\s[Watanabe]\" , s)))"
   ]
  },
  {
   "cell_type": "markdown",
   "id": "392cf771",
   "metadata": {},
   "source": [
    "22. How would you write a regex that matches a sentence where the first word is either Alice, Bob, or Carol; the second word is either eats, pets, or throws; the third word is apples, cats, or baseballs; and the sentence ends with a period? This regex should be case-insensitive. It must match the following:\n",
    "'Alice eats apples.'\n",
    "'Bob pets cats.'\n",
    "'Carol throws baseballs.'\n",
    "'Alice throws Apples.'\n",
    "'BOB EATS CATS.'\n",
    "but not the following:\n",
    "'RoboCop eats apples.'\n",
    "'ALICE THROWS FOOTBALLS.'\n",
    "'Carol eats 7 cats.'\n",
    "\n"
   ]
  },
  {
   "cell_type": "markdown",
   "id": "14f0443a",
   "metadata": {},
   "source": [
    "Ans: regex=re.compile(r'Alice|Bob|Carol\\seats|pets|throws\\sapples\\.|cats\\.|baseballs\\.',re.IGNORECASE)\n",
    "mo=regex.search(str)\n",
    "ma=mo.group()"
   ]
  }
 ],
 "metadata": {
  "kernelspec": {
   "display_name": "Python 3 (ipykernel)",
   "language": "python",
   "name": "python3"
  },
  "language_info": {
   "codemirror_mode": {
    "name": "ipython",
    "version": 3
   },
   "file_extension": ".py",
   "mimetype": "text/x-python",
   "name": "python",
   "nbconvert_exporter": "python",
   "pygments_lexer": "ipython3",
   "version": "3.9.7"
  }
 },
 "nbformat": 4,
 "nbformat_minor": 5
}
