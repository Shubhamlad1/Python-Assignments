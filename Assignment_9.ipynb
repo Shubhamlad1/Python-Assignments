{
 "cells": [
  {
   "cell_type": "markdown",
   "id": "d691193c",
   "metadata": {},
   "source": [
    "1.\tTo what does a relative path refer?\n"
   ]
  },
  {
   "cell_type": "markdown",
   "id": "1b14974a",
   "metadata": {},
   "source": [
    "Ans: relpath() in oython are used to get the relative path to the given path either from current working directory or from the given directory"
   ]
  },
  {
   "cell_type": "markdown",
   "id": "a80f8506",
   "metadata": {},
   "source": [
    "2.\tWhat does an absolute path start with your operating system?\n"
   ]
  },
  {
   "cell_type": "markdown",
   "id": "4d431b13",
   "metadata": {},
   "source": [
    "And: Absolute path contains entire path to the folder or directory which needs to access. Absolute path helps python to get the exact location of the folder or directory."
   ]
  },
  {
   "cell_type": "markdown",
   "id": "6e4ce99f",
   "metadata": {},
   "source": [
    "3.\tWhat do the functions os.getcwd() and os.chdir() do?\n"
   ]
  },
  {
   "cell_type": "markdown",
   "id": "1965b296",
   "metadata": {},
   "source": [
    "Ans: os.getcwd() : return the Unicode string for current working directory.\n",
    "         Os.chdir() : Changes th directory to the mentioned path."
   ]
  },
  {
   "cell_type": "markdown",
   "id": "3ef9ef08",
   "metadata": {},
   "source": [
    "4.\tWhat are the . and .. folders?\n",
    " "
   ]
  },
  {
   "cell_type": "markdown",
   "id": "084c1fe1",
   "metadata": {},
   "source": [
    "Ans: a folder or directory is a collection of files and subdirectories."
   ]
  },
  {
   "cell_type": "markdown",
   "id": "65da6560",
   "metadata": {},
   "source": [
    "5.\tIn C:\\bacon\\eggs\\spam.txt, which part is the dir name, and which part is the base name?\n"
   ]
  },
  {
   "cell_type": "markdown",
   "id": "2a294f83",
   "metadata": {},
   "source": [
    "Ans: C:\\bacon\\eggs : is the directory name \n",
    "Spam.txt is a base name. Base Name is a last name available in the path of directory."
   ]
  },
  {
   "cell_type": "markdown",
   "id": "09f8856a",
   "metadata": {},
   "source": [
    "6.\tWhat are the three “mode” arguments that can be passed to the open() function?\n"
   ]
  },
  {
   "cell_type": "markdown",
   "id": "95d275d2",
   "metadata": {},
   "source": [
    "And: “r” : Read mode where you can only read the file.\n",
    "“W” : Write mode where you can write the text or data in the file and we can read the file also\n",
    "“r+” : We can open the file in read + write mode by placing the pointer at the start of the file."
   ]
  },
  {
   "cell_type": "markdown",
   "id": "8f622c40",
   "metadata": {},
   "source": [
    "7.\tWhat happens if an existing file is opened in write mode?\n"
   ]
  },
  {
   "cell_type": "markdown",
   "id": "33fb8f6b",
   "metadata": {},
   "source": [
    "Ans: If we open existing file in the read mode than it discards the data in treat the file as a new empty file."
   ]
  },
  {
   "cell_type": "markdown",
   "id": "0d224b6b",
   "metadata": {},
   "source": [
    "8.\tHow do you tell the difference between read() and readlines()?\n"
   ]
  },
  {
   "cell_type": "markdown",
   "id": "7851d3ca",
   "metadata": {},
   "source": [
    "Ans: If we perform read operation that it reads the entire content but if we perform readlines() option it reads the file in line by line manner. And readlins() option returns a list of line."
   ]
  },
  {
   "cell_type": "markdown",
   "id": "dac5a49f",
   "metadata": {},
   "source": [
    "9.\tWhat data structure does a shelf value resemble?\n"
   ]
  },
  {
   "cell_type": "markdown",
   "id": "bc40418b",
   "metadata": {},
   "source": [
    "Ans: shelf value resembles a dictionary value."
   ]
  }
 ],
 "metadata": {
  "kernelspec": {
   "display_name": "Python 3 (ipykernel)",
   "language": "python",
   "name": "python3"
  },
  "language_info": {
   "codemirror_mode": {
    "name": "ipython",
    "version": 3
   },
   "file_extension": ".py",
   "mimetype": "text/x-python",
   "name": "python",
   "nbconvert_exporter": "python",
   "pygments_lexer": "ipython3",
   "version": "3.9.7"
  }
 },
 "nbformat": 4,
 "nbformat_minor": 5
}
