{
 "cells": [
  {
   "cell_type": "markdown",
   "id": "5c8abda8",
   "metadata": {},
   "source": [
    "1.\tWhat does RGBA stand for?\n"
   ]
  },
  {
   "cell_type": "markdown",
   "id": "14ec14e1",
   "metadata": {},
   "source": [
    "Ans: RGBA stands for red-green-blue-alpha in python"
   ]
  },
  {
   "cell_type": "markdown",
   "id": "a34a1e13",
   "metadata": {},
   "source": [
    "\n",
    "2.\tFrom the Pillow module, how do you get the RGBA value of any images?\n"
   ]
  },
  {
   "cell_type": "markdown",
   "id": "c55455f6",
   "metadata": {},
   "source": [
    "Ans: \n",
    "From PIL import Image\n",
    "im = Image.open(\"file_name.format\")\n",
    "im.show()\n",
    "colours = im.getpixel((320,400))\n",
    "print(colours)"
   ]
  },
  {
   "cell_type": "markdown",
   "id": "6f1ba34d",
   "metadata": {},
   "source": [
    "\n",
    "3.\tWhat is a box tuple, and how does it work?\n"
   ]
  },
  {
   "cell_type": "markdown",
   "id": "ab0993fb",
   "metadata": {},
   "source": [
    "Ans: Box tuple means a pollow module always expect a tuple of 4 integer co-ordinates that represents the rectangular region of image. "
   ]
  },
  {
   "cell_type": "markdown",
   "id": "2ad47c42",
   "metadata": {},
   "source": [
    "4.\tUse your image and load in notebook then, How can you find out the width and height of an Image object?\n"
   ]
  },
  {
   "cell_type": "markdown",
   "id": "d2cc4e64",
   "metadata": {},
   "source": [
    "Ans: \n",
    "height = o.height\n",
    "width = o.width\n",
    "print(\"height: \" , height , \",\" , \"width: \" , width)"
   ]
  },
  {
   "cell_type": "markdown",
   "id": "15f791fa",
   "metadata": {},
   "source": [
    "5.\tWhat method would you call to get Image object for a 100×100 image, excluding the lower-left quarter of it?\n"
   ]
  },
  {
   "cell_type": "markdown",
   "id": "cc31db8f",
   "metadata": {},
   "source": [
    "Ans:\n",
    "#import required module and then image\n",
    "From PIL import Image\n",
    "#import the image and load its pixels\n",
    "Img = Image.open(“Image absolute path”)\n",
    "Pixel = Img.load()\n",
    "#use for loop for getting data of image pixel wise and then print accordingly\n",
    "For row in range(Img.size[0]):\n",
    "\tFor column in range(Img.size[1]):\n",
    "\t\tIf row >25 and column > 25:\n",
    "\t\t\tPixel[row , coliman]"
   ]
  },
  {
   "cell_type": "markdown",
   "id": "186f38c3",
   "metadata": {},
   "source": [
    "6.\tAfter making changes to an Image object, how could you save it as an image file?\n"
   ]
  },
  {
   "cell_type": "markdown",
   "id": "084bf85a",
   "metadata": {},
   "source": [
    "Ans: img = Img.save(“file_name.format”)"
   ]
  },
  {
   "cell_type": "markdown",
   "id": "74302718",
   "metadata": {},
   "source": [
    "7.\tWhat module contains Pillow’s shape-drawing code?\n"
   ]
  },
  {
   "cell_type": "markdown",
   "id": "5af135a7",
   "metadata": {},
   "source": [
    "Ans: ImageDraw module"
   ]
  },
  {
   "cell_type": "markdown",
   "id": "7dba1088",
   "metadata": {},
   "source": [
    "8.\tImage objects do not have drawing methods. What kind of object does? How do you get this kind of object?\n"
   ]
  },
  {
   "cell_type": "markdown",
   "id": "eb3122b5",
   "metadata": {},
   "source": [
    "Ans:  Image objects inpillow will not have any drawing methods. To draw basic 2d images in pillow we have to import ImageDraw in pillow where we can user image object and on it we can draw 2 d objects.\n",
    "From PIL import Image , ImageDraw\n",
    "Img = Image.open(“File_name.jpg”)\n",
    "imgDw = ImageDraw.Draw(Img)\n",
    "now by using imgDw object we can perform drawing operation on Image"
   ]
  }
 ],
 "metadata": {
  "kernelspec": {
   "display_name": "Python 3 (ipykernel)",
   "language": "python",
   "name": "python3"
  },
  "language_info": {
   "codemirror_mode": {
    "name": "ipython",
    "version": 3
   },
   "file_extension": ".py",
   "mimetype": "text/x-python",
   "name": "python",
   "nbconvert_exporter": "python",
   "pygments_lexer": "ipython3",
   "version": "3.9.7"
  }
 },
 "nbformat": 4,
 "nbformat_minor": 5
}
