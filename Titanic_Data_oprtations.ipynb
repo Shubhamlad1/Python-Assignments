{
 "cells": [
  {
   "cell_type": "code",
   "execution_count": 1,
   "id": "9c2bf218",
   "metadata": {},
   "outputs": [
    {
     "name": "stdout",
     "output_type": "stream",
     "text": [
      "Number of Male Passengers on the boat was 577\n",
      "Number of Female passengers on the Boat was 314\n",
      "Number of passengers Survived on the Boat was 342\n",
      "Name of the eldest person of the boat is 803    Thomas, Master. Assad Alexander\n",
      "Name: Name, dtype: object\n",
      "216 passengers travelling with First Class, 184 Passengers are travelling with second class and 491 are travelling with Third class\n",
      "Number of passenger whoes name starts with letter S is 86\n",
      "Number of Passengers whose age is below 25 is 278\n"
     ]
    }
   ],
   "source": [
    "'''For titanic datset : \n",
    "\n",
    "\n",
    "1 . Find out how many male and female passenger was onboarded .\n",
    "2. how many survived we have .\n",
    "3. how many casuality we have \n",
    "4 . what is name of a person who is the eldest one . \n",
    "5 . how many passenger do we have in first , second and third class \n",
    "6. how many person we have whose name starts with \"s\"\n",
    "7. try to create a new column which is a summation  of \"SibSp\" and \"parch\"\n",
    "8 . how many person do we have below age of 25 .\n",
    "9 . how many person died whose age was less then 40 \n",
    "10 . from a  cabin column seperate text and numeric value . '''\n",
    "\n",
    "import pandas as pd\n",
    "df = pd.read_csv(\"https://raw.githubusercontent.com/datasciencedojo/datasets/master/titanic.csv\")\n",
    "\n",
    "'''Counts male present on a boat'''\n",
    "sax_male = df[\"Sex\"] == \"male\"\n",
    "\n",
    "'''Counts female present on the boat'''\n",
    "sex_femle = df[\"Sex\"] == \"female\"\n",
    "\n",
    "'''Count how many people survived'''\n",
    "Psurvived = df[\"Survived\"] == 1\n",
    "\n",
    "'''Gives name of the eldest person on the boat'''\n",
    "eldest_person = df[\"Age\"] == min(df[\"Age\"])\n",
    "eldest_person_name = df[eldest_person][\"Name\"]\n",
    "\n",
    "'''Gives the count of perosns tevelling with each class'''\n",
    "P_firstclass = df[\"Pclass\"] ==1\n",
    "P_secondclass = df[\"Pclass\"] == 2\n",
    "P_thirdclass = df[\"Pclass\"] == 3\n",
    "\n",
    "'''Gives count of the persons whos inintial is S'''\n",
    "count = 0\n",
    "for i in df[\"Name\"]:\n",
    "    if [i][0][0] == \"S\":\n",
    "        count = count + 1\n",
    "    else:\n",
    "        count = count\n",
    "        \n",
    "'''Add two columns SibSp and Parch'''        \n",
    "SibSp_list = []\n",
    "Parch_list = []\n",
    "sum_list = []\n",
    "for i in df[\"SibSp\"]:\n",
    "    SibSp_list.append(i)\n",
    "    \n",
    "for j in df[\"Parch\"]:\n",
    "    Parch_list.append(j)\n",
    "    \n",
    "for ( a, b) in zip(SibSp_list , Parch_list):\n",
    "    sum_list.append(a+b)\n",
    "df[\"SibSp_Parch_addColl\"] = sum_list\n",
    "\n",
    "'''Gives Count of the persons whos age is below 25'''\n",
    "age_count = 0\n",
    "for i in df[\"Age\"]:\n",
    "    if i < 25:\n",
    "        age_count = age_count +1\n",
    "\n",
    "'''Seperats text and int data from Cabin column'''\n",
    "text = []\n",
    "numeric = []\n",
    "for i in df[\"Cabin\"]:\n",
    "    if i == int:\n",
    "        numeric.append(i)\n",
    "    else:\n",
    "        text.append(i)\n",
    "        \n",
    "print(f\"Number of Male Passengers on the boat was {len(df[sax_male])}\")\n",
    "print(f\"Number of Female passengers on the Boat was {len(df[sex_femle])}\")\n",
    "print(f\"Number of passengers Survived on the Boat was {len(df[Psurvived])}\")\n",
    "print(f\"Name of the eldest person of the boat is {eldest_person_name}\")\n",
    "print(f\"{len(df[P_firstclass])} passengers travelling with First Class, {len(df[P_secondclass])} Passengers are travelling with second class and {len(df[P_thirdclass])} are travelling with Third class\")\n",
    "print(f\"Number of passenger whoes name starts with letter S is {count}\")\n",
    "print(f\"Number of Passengers whose age is below 25 is {age_count}\")"
   ]
  },
  {
   "cell_type": "code",
   "execution_count": null,
   "id": "3deabe91",
   "metadata": {},
   "outputs": [],
   "source": []
  },
  {
   "cell_type": "code",
   "execution_count": null,
   "id": "d2efa95a",
   "metadata": {},
   "outputs": [],
   "source": []
  },
  {
   "cell_type": "code",
   "execution_count": null,
   "id": "aed394a5",
   "metadata": {},
   "outputs": [],
   "source": []
  },
  {
   "cell_type": "code",
   "execution_count": null,
   "id": "7365a71c",
   "metadata": {},
   "outputs": [],
   "source": []
  },
  {
   "cell_type": "code",
   "execution_count": null,
   "id": "0f1f953a",
   "metadata": {},
   "outputs": [],
   "source": [
    "\n"
   ]
  },
  {
   "cell_type": "code",
   "execution_count": null,
   "id": "43acff79",
   "metadata": {},
   "outputs": [],
   "source": []
  },
  {
   "cell_type": "code",
   "execution_count": null,
   "id": "56f59baa",
   "metadata": {},
   "outputs": [],
   "source": []
  },
  {
   "cell_type": "code",
   "execution_count": null,
   "id": "1739153f",
   "metadata": {},
   "outputs": [],
   "source": [
    "\n"
   ]
  },
  {
   "cell_type": "code",
   "execution_count": null,
   "id": "74e4d1c1",
   "metadata": {},
   "outputs": [],
   "source": []
  },
  {
   "cell_type": "code",
   "execution_count": null,
   "id": "4c3a294c",
   "metadata": {},
   "outputs": [],
   "source": [
    "\n"
   ]
  },
  {
   "cell_type": "code",
   "execution_count": null,
   "id": "1bb8994b",
   "metadata": {},
   "outputs": [],
   "source": []
  },
  {
   "cell_type": "code",
   "execution_count": null,
   "id": "63fe8b79",
   "metadata": {},
   "outputs": [],
   "source": []
  },
  {
   "cell_type": "code",
   "execution_count": null,
   "id": "363c2a32",
   "metadata": {},
   "outputs": [],
   "source": []
  },
  {
   "cell_type": "code",
   "execution_count": null,
   "id": "07580f1f",
   "metadata": {},
   "outputs": [],
   "source": [
    "\n",
    "    \n",
    "        "
   ]
  },
  {
   "cell_type": "code",
   "execution_count": null,
   "id": "70693b95",
   "metadata": {},
   "outputs": [],
   "source": [
    "\n"
   ]
  },
  {
   "cell_type": "code",
   "execution_count": null,
   "id": "90d943ff",
   "metadata": {},
   "outputs": [],
   "source": []
  },
  {
   "cell_type": "code",
   "execution_count": null,
   "id": "8574f79f",
   "metadata": {},
   "outputs": [],
   "source": []
  },
  {
   "cell_type": "code",
   "execution_count": null,
   "id": "7392d881",
   "metadata": {},
   "outputs": [],
   "source": []
  },
  {
   "cell_type": "code",
   "execution_count": null,
   "id": "924748c1",
   "metadata": {},
   "outputs": [],
   "source": []
  },
  {
   "cell_type": "code",
   "execution_count": null,
   "id": "b72b2d6d",
   "metadata": {},
   "outputs": [],
   "source": []
  },
  {
   "cell_type": "code",
   "execution_count": null,
   "id": "1496c5e1",
   "metadata": {},
   "outputs": [],
   "source": []
  },
  {
   "cell_type": "code",
   "execution_count": null,
   "id": "94f687f4",
   "metadata": {},
   "outputs": [],
   "source": []
  },
  {
   "cell_type": "code",
   "execution_count": null,
   "id": "86b40b45",
   "metadata": {},
   "outputs": [],
   "source": []
  }
 ],
 "metadata": {
  "kernelspec": {
   "display_name": "Python 3 (ipykernel)",
   "language": "python",
   "name": "python3"
  },
  "language_info": {
   "codemirror_mode": {
    "name": "ipython",
    "version": 3
   },
   "file_extension": ".py",
   "mimetype": "text/x-python",
   "name": "python",
   "nbconvert_exporter": "python",
   "pygments_lexer": "ipython3",
   "version": "3.9.7"
  }
 },
 "nbformat": 4,
 "nbformat_minor": 5
}
