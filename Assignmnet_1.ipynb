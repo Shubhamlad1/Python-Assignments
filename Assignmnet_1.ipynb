{
 "cells": [
  {
   "cell_type": "markdown",
   "id": "4a57ac90",
   "metadata": {},
   "source": [
    "Q1. In the below elements which of them are values or an expression? eg:- values can be integer or string and expressions will be mathematical operators.\n",
    "\n",
    "Ans: Expressions: * , + ,- , /\n",
    "     Values: 'Hello', -87.8, 6"
   ]
  },
  {
   "cell_type": "markdown",
   "id": "853aceb1",
   "metadata": {},
   "source": [
    "Q2. What is the difference between string and variable?\n",
    "Ans: String is a reprentation of a value but variable is like a memory device you can store any type of values in variables for using it in future."
   ]
  },
  {
   "cell_type": "markdown",
   "id": "0354cf3f",
   "metadata": {},
   "source": [
    "Q3. Describe three different data types.\n",
    "Ans: String , integer, flot, Complex"
   ]
  },
  {
   "cell_type": "markdown",
   "id": "e276436a",
   "metadata": {},
   "source": [
    "Q4. What is an expression made up of? What do all expressions do?\n",
    "Ans: Expressions are made out of mathematical symbols. all mathematical operations and comparison operationscan be performed by expressions\n",
    "    "
   ]
  },
  {
   "cell_type": "markdown",
   "id": "c1ba82da",
   "metadata": {},
   "source": [
    "Q5. This assignment statements, like spam = 10. What is the difference between an expression and a statement?\n",
    "Ans: Expressions: Expressions are used to evalueat something. There are different type s expressions like Methamatical, Arithmatical, Logical. \n",
    "Statement: It is just a set of instruction. like spam = 10 menas it will assign Value 10 to spam variable. Whatever written in the statement it will communicate with system and do the operations accordingly."
   ]
  },
  {
   "cell_type": "markdown",
   "id": "7c33f5e4",
   "metadata": {},
   "source": [
    "Q6. After running the following code, what does the variable bacon contain?\n",
    "bacon = 22\n",
    "bacon + 1\n",
    "Ans: Bacon will contain 22"
   ]
  },
  {
   "cell_type": "markdown",
   "id": "d18c884a",
   "metadata": {},
   "source": [
    "Q7. What should the values of the following two terms be?\n",
    "'spam' + 'spamspam'\n",
    "'spam' * 3\n",
    "Ans: 'spamspamspam' Will be output for both codes"
   ]
  },
  {
   "cell_type": "markdown",
   "id": "9c607fd8",
   "metadata": {},
   "source": [
    "Q8.Why is eggs a valid variable name while 100 is invalid?\n",
    "Ans: Varialble name cannot starts with number or symbol. It can starts with alphabates and \"_\".\n"
   ]
  },
  {
   "cell_type": "markdown",
   "id": "bc45a226",
   "metadata": {},
   "source": [
    "Q9. What three functions can be used to get the integer, floating-point number, or string version of a value?\n",
    "Ans: For getting above three values type casting can be done. int , flot , str."
   ]
  },
  {
   "cell_type": "markdown",
   "id": "5340dbfc",
   "metadata": {},
   "source": [
    "Q10. Why does this expression cause an error? How can you fix it?\n",
    "'I have eaten ' + 99 + ' burritos.'\n",
    "Ans: 'I have eaten ' , 99 , ' burritos.'\n"
   ]
  }
 ],
 "metadata": {
  "kernelspec": {
   "display_name": "Python 3 (ipykernel)",
   "language": "python",
   "name": "python3"
  },
  "language_info": {
   "codemirror_mode": {
    "name": "ipython",
    "version": 3
   },
   "file_extension": ".py",
   "mimetype": "text/x-python",
   "name": "python",
   "nbconvert_exporter": "python",
   "pygments_lexer": "ipython3",
   "version": "3.9.7"
  }
 },
 "nbformat": 4,
 "nbformat_minor": 5
}
