{
 "cells": [
  {
   "cell_type": "markdown",
   "id": "381bc4d7",
   "metadata": {},
   "source": [
    "\n",
    "\n",
    "\n",
    "\n",
    "\n",
    "\n",
    "\n",
    "\n",
    "\n",
    "\n",
    "\n",
    "\n",
    "\n",
    "\n",
    "\n",
    "\n",
    "\n",
    "\n",
    "\n",
    "\n",
    "\n",
    "\n",
    " \n",
    "\n",
    "\n",
    "\n",
    " \n",
    "\n",
    "\n",
    "\n",
    "\n",
    "\n",
    "\n",
    "\n",
    "\n"
   ]
  },
  {
   "cell_type": "markdown",
   "id": "881adb20",
   "metadata": {},
   "source": [
    "1.\tWhat exactly is []?"
   ]
  },
  {
   "cell_type": "markdown",
   "id": "3e8e6304",
   "metadata": {},
   "source": [
    "Ans: [] this parenthesis are used to store values"
   ]
  },
  {
   "cell_type": "markdown",
   "id": "49186cee",
   "metadata": {},
   "source": [
    "2.\tIn a list of values stored in a variable called spam, how would you assign the value 'hello' as the third value? (Assume [2, 4, 6, 8, 10] are in spam.)"
   ]
  },
  {
   "cell_type": "markdown",
   "id": "ed92af2a",
   "metadata": {},
   "source": [
    "Ans:  Ans:      spam = [2,4,6,8,10]\n",
    "spam.insert(3 , \"Hello\")\n",
    "Let's pretend the spam includes the list ['a', 'b', 'c', 'd'] for the next three queries."
   ]
  },
  {
   "cell_type": "markdown",
   "id": "fe9febc3",
   "metadata": {},
   "source": [
    "3.\tWhat is the value of spam[int(int('3' * 2) / 11)]?\n"
   ]
  },
  {
   "cell_type": "markdown",
   "id": "4d7893ca",
   "metadata": {},
   "source": [
    "Ans:       d"
   ]
  },
  {
   "cell_type": "markdown",
   "id": "0ae2eb34",
   "metadata": {},
   "source": [
    "\n",
    "4.\tWhat is the value of spam[-1]?\n"
   ]
  },
  {
   "cell_type": "markdown",
   "id": "2063e3ca",
   "metadata": {},
   "source": [
    "Ans:   d"
   ]
  },
  {
   "cell_type": "markdown",
   "id": "2b2d57e7",
   "metadata": {},
   "source": [
    "5.\tWhat is the value of spam[:2]?\n"
   ]
  },
  {
   "cell_type": "markdown",
   "id": "8052140a",
   "metadata": {},
   "source": [
    "Ans:     c"
   ]
  },
  {
   "cell_type": "markdown",
   "id": "7f3d9565",
   "metadata": {},
   "source": [
    "Let's pretend bacon has the list [3.14, 'cat,' 11, 'cat,' True] for the next three questions.\n",
    "6.\tWhat is the value of bacon.index('cat')?\n"
   ]
  },
  {
   "cell_type": "markdown",
   "id": "a095f855",
   "metadata": {},
   "source": [
    "Ans:   1"
   ]
  },
  {
   "cell_type": "markdown",
   "id": "336b2c08",
   "metadata": {},
   "source": [
    "7.\tHow does bacon.append(99) change the look of the list value in bacon?\n"
   ]
  },
  {
   "cell_type": "markdown",
   "id": "2e82f209",
   "metadata": {},
   "source": [
    "Ans: [3.14, 'cat,', 11, 'cat,', True, 99]"
   ]
  },
  {
   "cell_type": "markdown",
   "id": "235d669b",
   "metadata": {},
   "source": [
    "8.\tHow does bacon.remove('cat') change the look of the list in bacon?\n",
    "\n"
   ]
  },
  {
   "cell_type": "markdown",
   "id": "07af31ba",
   "metadata": {},
   "source": [
    "Ans:  [3.14, 11, 'cat,', True, 99]"
   ]
  },
  {
   "cell_type": "markdown",
   "id": "c4c6b10d",
   "metadata": {},
   "source": [
    "9.\tWhat are the list concatenation and list replication operators?\n"
   ]
  },
  {
   "cell_type": "markdown",
   "id": "39622c3a",
   "metadata": {},
   "source": [
    "Ans: List Concatination Operator : +      List replication Operator: *"
   ]
  },
  {
   "cell_type": "markdown",
   "id": "8512fd2b",
   "metadata": {},
   "source": [
    "10.\tWhat is difference between the list methods append() and insert()?\n"
   ]
  },
  {
   "cell_type": "markdown",
   "id": "50017946",
   "metadata": {},
   "source": [
    "Ans: append(): Append operation in list will append the value on last position by default .\n",
    "Insert():  Insert operation in list will add the value at given index."
   ]
  },
  {
   "cell_type": "markdown",
   "id": "05abc06c",
   "metadata": {},
   "source": [
    "11.\tWhat are the two methods for removing items from a list?\n"
   ]
  },
  {
   "cell_type": "markdown",
   "id": "3d747814",
   "metadata": {},
   "source": [
    "Ans: pop and remove operation can be used for removing the items from the list."
   ]
  },
  {
   "cell_type": "markdown",
   "id": "f89d656a",
   "metadata": {},
   "source": [
    "12.\tDescribe how list values and string values are identical.\n"
   ]
  },
  {
   "cell_type": "markdown",
   "id": "d3ec6900",
   "metadata": {},
   "source": [
    "Ans: List and strings are ordered collection of elements. All the elements the list and strings will have index values and we can call the value according to their index value. "
   ]
  },
  {
   "cell_type": "markdown",
   "id": "24dc63b6",
   "metadata": {},
   "source": [
    "13.\tWhat's the difference between tuples and lists?\n"
   ]
  },
  {
   "cell_type": "markdown",
   "id": "3ddac29a",
   "metadata": {},
   "source": [
    "Ans: Tuples are immutable once created they can not changed.\n",
    "Lists are mutable we can append the list we can insert the values at any given indexes."
   ]
  },
  {
   "cell_type": "markdown",
   "id": "0ad6429b",
   "metadata": {},
   "source": [
    "14.\tHow do you type a tuple value that only contains the integer 42?\n"
   ]
  },
  {
   "cell_type": "markdown",
   "id": "231c01bd",
   "metadata": {},
   "source": [
    "Ans:  a = (42)"
   ]
  },
  {
   "cell_type": "markdown",
   "id": "ba55daaa",
   "metadata": {},
   "source": [
    "15.\tHow do you get a list value's tuple form? How do you get a tuple value's list form?\n"
   ]
  },
  {
   "cell_type": "markdown",
   "id": "0b95ba90",
   "metadata": {},
   "source": [
    "Ans: Question not understood "
   ]
  },
  {
   "cell_type": "markdown",
   "id": "5c31ec31",
   "metadata": {},
   "source": [
    "16.\tVariables that \"contain\" list values are not necessarily lists themselves. Instead, what do they contain?"
   ]
  },
  {
   "cell_type": "markdown",
   "id": "4ec59023",
   "metadata": {},
   "source": [
    "Ans: They of variable is depends on the parenthesis which is being used."
   ]
  },
  {
   "cell_type": "markdown",
   "id": "7360ddb7",
   "metadata": {},
   "source": [
    "17.\tHow do you distinguish between copy.copy() and copy.deepcopy()?\n"
   ]
  },
  {
   "cell_type": "markdown",
   "id": "2a5673b9",
   "metadata": {},
   "source": [
    "Ans:   hallow Copy: Shallow repetition is quicker. However, it’s “lazy” it handles pointers and references. Rather than creating a contemporary copy of the particular knowledge the pointer points to, it simply copies over the pointer price. So, each the first and therefore the copy can have pointers that reference constant underlying knowledge.\n",
    "Deep Copy: Deep repetition truly clones the underlying data. It is not shared between the first and therefore the copy."
   ]
  }
 ],
 "metadata": {
  "kernelspec": {
   "display_name": "Python 3 (ipykernel)",
   "language": "python",
   "name": "python3"
  },
  "language_info": {
   "codemirror_mode": {
    "name": "ipython",
    "version": 3
   },
   "file_extension": ".py",
   "mimetype": "text/x-python",
   "name": "python",
   "nbconvert_exporter": "python",
   "pygments_lexer": "ipython3",
   "version": "3.9.7"
  }
 },
 "nbformat": 4,
 "nbformat_minor": 5
}
