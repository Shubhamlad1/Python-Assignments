{
 "cells": [
  {
   "cell_type": "markdown",
   "id": "9471030f",
   "metadata": {},
   "source": [
    "1.\tIs the Python Standard Library included with PyInputPlus?\n"
   ]
  },
  {
   "cell_type": "markdown",
   "id": "67c09f85",
   "metadata": {},
   "source": [
    "Ans: pyinputplus is not a standard library in python."
   ]
  },
  {
   "cell_type": "markdown",
   "id": "de0d9a98",
   "metadata": {},
   "source": [
    "2.\tWhy is PyInputPlus commonly imported with import pyinputplus as pypi?\n"
   ]
  },
  {
   "cell_type": "markdown",
   "id": "bfaafc19",
   "metadata": {},
   "source": [
    "Ans: It makes it easy to use. We can give commands like pyip.inputdataandtime() and we are ready to go. And it helps in entering a shorter name while using the commands."
   ]
  },
  {
   "cell_type": "markdown",
   "id": "a10c6afa",
   "metadata": {},
   "source": [
    "3.\tHow do you distinguish between inputInt() and inputFloat()?\n"
   ]
  },
  {
   "cell_type": "markdown",
   "id": "f35ea3b8",
   "metadata": {},
   "source": [
    "Ans: inputInt() fincton takes integer input only. \n",
    "inputFloat() function can take integer function also but converts it into float."
   ]
  },
  {
   "cell_type": "markdown",
   "id": "73883c92",
   "metadata": {},
   "source": [
    "4.\tUsing PyInputPlus, how do you ensure that the user enters a whole number between 0 and 99?\n"
   ]
  },
  {
   "cell_type": "markdown",
   "id": "01890c08",
   "metadata": {},
   "source": [
    "Ans: while True:\n",
    "    w = pyip.inputInt()\n",
    "    if w > 0 and w<100:\n",
    "        print(\"Given inut is whole Number Between 0 - 99\")\n",
    "        break\n",
    "    else:\n",
    "        print(\"Given number is not a whole number between between 0-99\")\n",
    "        continue"
   ]
  },
  {
   "cell_type": "markdown",
   "id": "ede748cc",
   "metadata": {},
   "source": [
    "5.\tWhat is transferred to the keyword arguments allowRegexes and blockRegexes?\n"
   ]
  },
  {
   "cell_type": "markdown",
   "id": "844855d5",
   "metadata": {},
   "source": [
    "Ans: For allowRegexex: alloeRegexex= [r”([A-z{1}\\w{1,20}])”}    \n",
    "blockRegexex: blockRegexex= [r”([A-z{1}\\w{1,20}])”}    \n",
    "as mention keyword argument for allow regexs and block egexex are given. After equal to we suppose to tell what kindof data set we are looking for to allow or block"
   ]
  },
  {
   "cell_type": "markdown",
   "id": "60bdea99",
   "metadata": {},
   "source": [
    "6. If a blank input is entered three times, what does inputStr(limit=3) do?\n"
   ]
  },
  {
   "cell_type": "markdown",
   "id": "52b9bf3d",
   "metadata": {},
   "source": [
    "Ans: It gives an error after entering 3rd bank value"
   ]
  },
  {
   "cell_type": "markdown",
   "id": "abe0ff93",
   "metadata": {},
   "source": [
    "7. If blank input is entered three times, what does inputStr(limit=3, default='hello') do?\n"
   ]
  },
  {
   "cell_type": "markdown",
   "id": "8d607a88",
   "metadata": {},
   "source": [
    "Ans: After giving three blank inputs we it does not give error. And it print default value after 3rd blank input"
   ]
  }
 ],
 "metadata": {
  "kernelspec": {
   "display_name": "Python 3 (ipykernel)",
   "language": "python",
   "name": "python3"
  },
  "language_info": {
   "codemirror_mode": {
    "name": "ipython",
    "version": 3
   },
   "file_extension": ".py",
   "mimetype": "text/x-python",
   "name": "python",
   "nbconvert_exporter": "python",
   "pygments_lexer": "ipython3",
   "version": "3.9.7"
  }
 },
 "nbformat": 4,
 "nbformat_minor": 5
}
