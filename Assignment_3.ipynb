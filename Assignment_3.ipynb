{
 "cells": [
  {
   "cell_type": "markdown",
   "id": "c50a54c5",
   "metadata": {},
   "source": [
    "1.\tWhy are functions advantageous to have in your programs?\n",
    "\n",
    "\n"
   ]
  },
  {
   "cell_type": "markdown",
   "id": "cd7f344a",
   "metadata": {},
   "source": [
    "Ans: In case of certain operation which needs to be done repetitively, functions come into the picture. We can create a function for such operations thereby call calling that function only respective operation can be done. It means it reduces duplication in the code and makes the code short and organised. It increases readability of the code. Hence having a function in a code is advantageous. "
   ]
  },
  {
   "cell_type": "markdown",
   "id": "0e39f271",
   "metadata": {},
   "source": [
    "2.\tWhen does the code in a function run: when it's specified or when it's called?\n",
    "\n"
   ]
  },
  {
   "cell_type": "markdown",
   "id": "03a18594",
   "metadata": {},
   "source": [
    "Ans: When function is called"
   ]
  },
  {
   "cell_type": "markdown",
   "id": "c2207c41",
   "metadata": {},
   "source": [
    "3.\tWhat statement creates a function?"
   ]
  },
  {
   "cell_type": "markdown",
   "id": "d1741160",
   "metadata": {},
   "source": [
    "Ans: def creates a function"
   ]
  },
  {
   "cell_type": "markdown",
   "id": "8d245619",
   "metadata": {},
   "source": [
    "4.\tWhat is the difference between a function and a function call?\n",
    "\n"
   ]
  },
  {
   "cell_type": "markdown",
   "id": "591084cf",
   "metadata": {},
   "source": [
    "Ans: A function means a code which is written to perform a certain operations and function call means calling a function to perform the operation. Until and unless we don’t call a function it is no use."
   ]
  },
  {
   "cell_type": "markdown",
   "id": "d6e83f37",
   "metadata": {},
   "source": [
    "5.\tHow many global scopes are there in a Python program? How many local scopes?\n",
    "\n"
   ]
  },
  {
   "cell_type": "markdown",
   "id": "7c0067e1",
   "metadata": {},
   "source": [
    "Ans: There is only one global scope in python and unlimited local scopes can be given."
   ]
  },
  {
   "cell_type": "markdown",
   "id": "7d02a83c",
   "metadata": {},
   "source": [
    "6.\tWhat happens to variables in a local scope when the function call returns?\n",
    "\n"
   ]
  },
  {
   "cell_type": "markdown",
   "id": "92329012",
   "metadata": {},
   "source": [
    "Ans: When function call return the variables in local scope will vanished or destroyed"
   ]
  },
  {
   "cell_type": "markdown",
   "id": "8db5f573",
   "metadata": {},
   "source": [
    "7.\tWhat is the concept of a return value? Is it possible to have a return value in an expression?\n",
    "\n"
   ]
  },
  {
   "cell_type": "markdown",
   "id": "c3876f25",
   "metadata": {},
   "source": [
    "Ans: Return value is specified value in the function. Function call this value after executing the function. It is possible to use return value in the expression."
   ]
  },
  {
   "cell_type": "markdown",
   "id": "4bfc5bba",
   "metadata": {},
   "source": [
    "8.\tIf a function does not have a return statement, what is the return value of a call to that function?\n",
    "\n"
   ]
  },
  {
   "cell_type": "markdown",
   "id": "5f88c5de",
   "metadata": {},
   "source": [
    "Ans: It will return None. "
   ]
  },
  {
   "cell_type": "markdown",
   "id": "c729d4c2",
   "metadata": {},
   "source": [
    "9.\tHow do you make a function variable refer to the global variable?\n",
    " \n"
   ]
  },
  {
   "cell_type": "markdown",
   "id": "71936c67",
   "metadata": {},
   "source": [
    "Ans: We can refer global variable in function by calling the global keyword in function."
   ]
  },
  {
   "cell_type": "markdown",
   "id": "534ddb91",
   "metadata": {},
   "source": [
    "10.\tWhat is the data type of None?\n",
    "\n"
   ]
  },
  {
   "cell_type": "markdown",
   "id": "cb903f35",
   "metadata": {},
   "source": [
    "Ans: None data type is different data type which has a null value like print statement we can not use it anywhere."
   ]
  },
  {
   "cell_type": "markdown",
   "id": "ce81c9c4",
   "metadata": {},
   "source": [
    "11.  What does the sentence import areallyourpetsnamederic do?"
   ]
  },
  {
   "cell_type": "markdown",
   "id": "74345384",
   "metadata": {},
   "source": [
    "Ans: Did not understand the question"
   ]
  },
  {
   "cell_type": "markdown",
   "id": "07fd3d3d",
   "metadata": {},
   "source": [
    "12. If you had a bacon() feature in a spam module, what would you call it after importing spam?"
   ]
  },
  {
   "cell_type": "markdown",
   "id": "9c9f89a3",
   "metadata": {},
   "source": [
    "Ans: bacon()"
   ]
  },
  {
   "cell_type": "markdown",
   "id": "ef822c43",
   "metadata": {},
   "source": [
    "13. What can you do to save a programme from crashing if it encounters an error?\n",
    "\n"
   ]
  },
  {
   "cell_type": "markdown",
   "id": "9a6719ac",
   "metadata": {},
   "source": [
    "Ans: Exceptional Handling "
   ]
  },
  {
   "cell_type": "markdown",
   "id": "37b7adc9",
   "metadata": {},
   "source": [
    "14. What is the purpose of the try clause? What is the purpose of the except clause?\n",
    " \n"
   ]
  },
  {
   "cell_type": "markdown",
   "id": "18cc0a01",
   "metadata": {},
   "source": [
    "And: Try clause allows to test the code for error and if error found then except clause helps in handling the error by user defined inputs."
   ]
  },
  {
   "cell_type": "code",
   "execution_count": null,
   "id": "e48cc7d3",
   "metadata": {},
   "outputs": [],
   "source": []
  }
 ],
 "metadata": {
  "kernelspec": {
   "display_name": "Python 3 (ipykernel)",
   "language": "python",
   "name": "python3"
  },
  "language_info": {
   "codemirror_mode": {
    "name": "ipython",
    "version": 3
   },
   "file_extension": ".py",
   "mimetype": "text/x-python",
   "name": "python",
   "nbconvert_exporter": "python",
   "pygments_lexer": "ipython3",
   "version": "3.9.7"
  }
 },
 "nbformat": 4,
 "nbformat_minor": 5
}
