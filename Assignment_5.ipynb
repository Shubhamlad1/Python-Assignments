{
 "cells": [
  {
   "cell_type": "markdown",
   "id": "8e827f7b",
   "metadata": {},
   "source": [
    "1.\tWhat does an empty dictionary's code look like?\n"
   ]
  },
  {
   "cell_type": "markdown",
   "id": "cb97e760",
   "metadata": {},
   "source": [
    "Ans:   a = {}"
   ]
  },
  {
   "cell_type": "markdown",
   "id": "9fbd1628",
   "metadata": {},
   "source": [
    "2.\tWhat is the value of a dictionary value with the key 'foo' and the value 42?\n"
   ]
  },
  {
   "cell_type": "markdown",
   "id": "0d52f8dd",
   "metadata": {},
   "source": [
    "Ans: For given dictionary value of the dictionary is 42."
   ]
  },
  {
   "cell_type": "markdown",
   "id": "eec0f19e",
   "metadata": {},
   "source": [
    "3.\tWhat is the most significant distinction between a dictionary and a list?\n"
   ]
  },
  {
   "cell_type": "markdown",
   "id": "3655ae0b",
   "metadata": {},
   "source": [
    "Ans. Lists are ordered collection of the items, but dictionaries are unordered collections of the items. And another difference is dictionaries are keys and values pares value can be accessed by giving key as a input but in list values can be accessed according to their positions."
   ]
  },
  {
   "cell_type": "markdown",
   "id": "210e4ac4",
   "metadata": {},
   "source": [
    "4.\tWhat happens if you try to access spam['foo'] if spam is {'bar': 100}?\n"
   ]
  },
  {
   "cell_type": "markdown",
   "id": "1b05a973",
   "metadata": {},
   "source": [
    "Ans: as key is ‘foo’ is not present in the dictionary it will give key error."
   ]
  },
  {
   "cell_type": "markdown",
   "id": "d3d8130c",
   "metadata": {},
   "source": [
    "5.\tIf a dictionary is stored in spam, what is the difference between the expressions 'cat' in spam and 'cat' in spam.keys()?\n"
   ]
  },
  {
   "cell_type": "markdown",
   "id": "d330dd39",
   "metadata": {},
   "source": [
    "Ans.  ‘cat’ in spam and ‘cat’ is spam.keys() both the expressing will give out put in bool form True or False."
   ]
  },
  {
   "cell_type": "markdown",
   "id": "bfb5eed0",
   "metadata": {},
   "source": [
    "6.\tIf a dictionary is stored in spam, what is the difference between the expressions 'cat' in spam and 'cat' in spam.values()?\n"
   ]
  },
  {
   "cell_type": "markdown",
   "id": "b6eec849",
   "metadata": {},
   "source": [
    "Ans: ‘cat’ in spam and ‘cat’ in spam.values() will also gives out put in a bool form True or False. If the given value is present in the dictionary it will give True else False. "
   ]
  },
  {
   "cell_type": "markdown",
   "id": "8439add6",
   "metadata": {},
   "source": [
    "7. What is a shortcut for the following code?\n",
    "if 'color' not in spam:\n",
    "spam['color'] = 'black'\n"
   ]
  },
  {
   "cell_type": "markdown",
   "id": "957431a6",
   "metadata": {},
   "source": [
    "Ans: it will add “color” :“Black” as a key value pair in the dictionary spam."
   ]
  },
  {
   "cell_type": "markdown",
   "id": "f68e7cfa",
   "metadata": {},
   "source": [
    "8.\tHow do you \"pretty print\" dictionary values using which module and function?\n"
   ]
  },
  {
   "cell_type": "markdown",
   "id": "c3da755f",
   "metadata": {},
   "source": [
    "Ans:    Module :       import pprint\n",
    "\tFunction:     pprint.pprint(spam.values()) "
   ]
  }
 ],
 "metadata": {
  "kernelspec": {
   "display_name": "Python 3 (ipykernel)",
   "language": "python",
   "name": "python3"
  },
  "language_info": {
   "codemirror_mode": {
    "name": "ipython",
    "version": 3
   },
   "file_extension": ".py",
   "mimetype": "text/x-python",
   "name": "python",
   "nbconvert_exporter": "python",
   "pygments_lexer": "ipython3",
   "version": "3.9.7"
  }
 },
 "nbformat": 4,
 "nbformat_minor": 5
}
