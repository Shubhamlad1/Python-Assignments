{
 "cells": [
  {
   "cell_type": "markdown",
   "id": "da07e965",
   "metadata": {},
   "source": [
    "1.\tWhat are escape characters, and how do you use them?\n"
   ]
  },
  {
   "cell_type": "markdown",
   "id": "c54216a3",
   "metadata": {},
   "source": [
    "Ans:  “\\” this is a escape character and it provides certain characters with it.\n",
    "\\t = Tab , \\n = New Line  etc.   where we can not use tabs and new line directly there we can use this escape characters. "
   ]
  },
  {
   "cell_type": "markdown",
   "id": "c4aecfe5",
   "metadata": {},
   "source": [
    "2.\tWhat do the escape characters n and t stand for?\n"
   ]
  },
  {
   "cell_type": "markdown",
   "id": "787e349c",
   "metadata": {},
   "source": [
    "Ans:  \\n = New line\n",
    "\t\\t - Tab"
   ]
  },
  {
   "cell_type": "markdown",
   "id": "4b915309",
   "metadata": {},
   "source": [
    "3.\tWhat is the way to include backslash characters in a string?\n"
   ]
  },
  {
   "cell_type": "markdown",
   "id": "c77f4df9",
   "metadata": {},
   "source": [
    "Ans:  1. s = \"My name is shubham. \\ni am a student of i neuron\"\n",
    "             Output = My name is shubham. \n",
    "                     i am a student of i neuron\n",
    "\t2. = s = \"My name is shubham. \\ti am a student of i neuron\"\n",
    "\tOutput = My name is shubham. \ti am a student of i neuron"
   ]
  },
  {
   "cell_type": "markdown",
   "id": "95ac7887",
   "metadata": {},
   "source": [
    "4.\tThe string \"Howl's Moving Castle\" is a correct value. Why isn't the single quote character in the word Howl's not escaped a problem?\n"
   ]
  },
  {
   "cell_type": "markdown",
   "id": "44ce42c6",
   "metadata": {},
   "source": [
    "Ans: As the string is quoted in double quotes and inside the string if single quote is used than it will not give any error but if same type of quotes has to be used then before that use of backslash is mandatory than only it will escape that character while reading and it will not give any error."
   ]
  },
  {
   "cell_type": "markdown",
   "id": "ce340d2a",
   "metadata": {},
   "source": [
    "5.\tHow do you write a string of newlines if you don't want to use the n character?\n"
   ]
  },
  {
   "cell_type": "markdown",
   "id": "dcf4a833",
   "metadata": {},
   "source": [
    "Ans: in triple inverted Comma"
   ]
  },
  {
   "cell_type": "markdown",
   "id": "11e09f2c",
   "metadata": {},
   "source": [
    "6. What are the values of the given expressions?\n"
   ]
  },
  {
   "cell_type": "markdown",
   "id": "acb2f357",
   "metadata": {},
   "source": [
    "Ans:  'Hello, world!'[1]  = e\n",
    "    'Hello, world!'[0:5]  = Hello\n",
    "    'Hello, world!'[:5] = hello\n",
    "    'Hello, world!'[3:] = lo, word!"
   ]
  },
  {
   "cell_type": "markdown",
   "id": "529f3d5d",
   "metadata": {},
   "source": [
    "7. What are the values of the following expressions?\n"
   ]
  },
  {
   "cell_type": "markdown",
   "id": "bff27a00",
   "metadata": {},
   "source": [
    "'Hello'.upper() = HELLO\n",
    "'Hello'.upper().isupper() = True\n",
    "'Hello'.upper().lower()  = hello"
   ]
  },
  {
   "cell_type": "markdown",
   "id": "63627a84",
   "metadata": {},
   "source": [
    "8. What are the values of the following expressions?\n"
   ]
  },
  {
   "cell_type": "markdown",
   "id": "91e49ff6",
   "metadata": {},
   "source": [
    "'Remember, remember, the fifth of July.'.split()\n",
    "Ans: ['Remember,', 'remember,', 'the', 'fifth', 'of', 'July.']\n",
    "\n",
    "'-'.join('There can only one.'.split())\n",
    "Ans: 'There-can-only-one.'"
   ]
  },
  {
   "cell_type": "markdown",
   "id": "9a6fed75",
   "metadata": {},
   "source": [
    "9. What are the methods for right-justifying, left-justifying, and centering a string?\n"
   ]
  },
  {
   "cell_type": "markdown",
   "id": "aa7a31a6",
   "metadata": {},
   "source": [
    "Ans: 1. Ljust(len, filcher)=   str.ljust(30, “#”)  : Len is number of spaces that should be kept from left side before statting the string and fillchar is not compulsory but if we give fillchar it will add that character in the all spaces specified in the len. \n",
    "It is similar for rjust but for centre it will add fillchar on both the sides.\n",
    "Syntax:     str.center(30, “#”)              str.ljust(30, “#”)                  str.rjust(30, “#”)"
   ]
  },
  {
   "cell_type": "markdown",
   "id": "dde93170",
   "metadata": {},
   "source": [
    "10. What is the best way to remove whitespace characters from the start or end?\n"
   ]
  },
  {
   "cell_type": "markdown",
   "id": "4332685d",
   "metadata": {},
   "source": [
    "Ans.   Str.strip() : it will remove white space char. Present at start or end."
   ]
  }
 ],
 "metadata": {
  "kernelspec": {
   "display_name": "Python 3 (ipykernel)",
   "language": "python",
   "name": "python3"
  },
  "language_info": {
   "codemirror_mode": {
    "name": "ipython",
    "version": 3
   },
   "file_extension": ".py",
   "mimetype": "text/x-python",
   "name": "python",
   "nbconvert_exporter": "python",
   "pygments_lexer": "ipython3",
   "version": "3.9.7"
  }
 },
 "nbformat": 4,
 "nbformat_minor": 5
}
