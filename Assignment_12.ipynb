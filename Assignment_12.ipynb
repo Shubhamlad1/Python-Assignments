{
 "cells": [
  {
   "cell_type": "markdown",
   "id": "a58e6d0d",
   "metadata": {},
   "source": [
    "1.\tIn what modes should the PdfFileReader() and PdfFileWriter() File objects will be opened?\n",
    "Ans: PyPDF2 mudule involves given functions"
   ]
  },
  {
   "cell_type": "markdown",
   "id": "fbd25cf5",
   "metadata": {},
   "source": [
    "2.\tFrom a PdfFileReader object, how do you get a Page object for page 5?\n"
   ]
  },
  {
   "cell_type": "markdown",
   "id": "203bbceb",
   "metadata": {},
   "source": [
    "Ans:\n",
    " import PyPDF2\n",
    "pdf_file_object = open(“file_name” , “mode”)\n",
    "file_reader = PyPDF2.PdfFileReader(pdf_file_obect)\n",
    "page_object = file_reader.getPage(5)\n",
    "print(page_object.extractText())\n",
    "#By this commanons we can extract the text from page number 5"
   ]
  },
  {
   "cell_type": "markdown",
   "id": "c2479527",
   "metadata": {},
   "source": [
    "3.\tWhat PdfFileReader variable stores the number of pages in the PDF document?\n"
   ]
  },
  {
   "cell_type": "markdown",
   "id": "a592d5d9",
   "metadata": {},
   "source": [
    "Ans: Number of pages of the PDF are stored in numPages attribute of PdfFileReder Module."
   ]
  },
  {
   "cell_type": "markdown",
   "id": "d1afc8de",
   "metadata": {},
   "source": [
    "4.\tIf a PdfFileReader object’s PDF is encrypted with the password swordfish, what must you do before you can obtain Page objects from it?\n"
   ]
  },
  {
   "cell_type": "markdown",
   "id": "5e83cae6",
   "metadata": {},
   "source": [
    "Ans: iF the file is Encrypted with the password the first we supposed Decrypt the file by using the function:       file.decrypt(password)\n",
    "After decrypting the file we can copy the file into the new file by using Pdfwriter module and can read the file than "
   ]
  },
  {
   "cell_type": "markdown",
   "id": "170bb795",
   "metadata": {},
   "source": [
    "5.\tWhat methods do you use to rotate a page?\n"
   ]
  },
  {
   "cell_type": "markdown",
   "id": "8f8774b0",
   "metadata": {},
   "source": [
    "For rotating the PDF we have rotateclockwise and rotateanticlockwise functions are available. \n",
    "File_reader = PyPDF2.PdfFileReader(file_object)\n",
    "For page in range(File_reader.numPages()):\n",
    "\tPage_object = file_reader.getPages(page) \n",
    "\tPage_object.rotateclockwise(rotation_angle)\n",
    "\n",
    "By this way we can rotate the file pages"
   ]
  },
  {
   "cell_type": "markdown",
   "id": "6dfa4cdc",
   "metadata": {},
   "source": [
    "6.\tWhat is the difference between a Run object and a Paragraph object?\n"
   ]
  },
  {
   "cell_type": "markdown",
   "id": "a5c95dfc",
   "metadata": {},
   "source": [
    "Ans:  Each Paragraph object also has a runs attribute that is a list of Run objects. Run objects also have a text attribute, containing just the text in that particular run. Let's look at the text attributes in the second Paragraph object, 'A plain paragraph with some bold and some italic' ."
   ]
  },
  {
   "cell_type": "markdown",
   "id": "60376d6e",
   "metadata": {},
   "source": [
    "7.\tHow do you obtain a list of Paragraph objects for a Document object that’s stored in a variable named doc?\n",
    "Ans: Don’t know the answer"
   ]
  },
  {
   "cell_type": "markdown",
   "id": "bd083ee1",
   "metadata": {},
   "source": [
    "8.\tWhat type of object has bold, underline, italic, strike, and outline variables?\n",
    "Ans: Question Not Understood"
   ]
  },
  {
   "cell_type": "markdown",
   "id": "02a6fce3",
   "metadata": {},
   "source": [
    "9.\tWhat is the difference between False, True, and None for the bold variable?\n"
   ]
  },
  {
   "cell_type": "markdown",
   "id": "e1d26f8f",
   "metadata": {},
   "source": [
    "Ans: Bold Veriable True: True defines give text has defined attribute. \n",
    "False defines define given text has not predefined variable. "
   ]
  },
  {
   "cell_type": "markdown",
   "id": "efab9aed",
   "metadata": {},
   "source": [
    "10.\tHow do you create a Document object for a new Word document?\n"
   ]
  },
  {
   "cell_type": "markdown",
   "id": "3296fa69",
   "metadata": {},
   "source": [
    "Ans: there are different module are available for working with doc file like python-DOCS or aspose.word etc.  Lets see by using aspose.word module how to create new document\n",
    "Import aspose.word as aw\n",
    "Doc = aw.document()       #create a document\n",
    "Builder = aw.DocumentBuilder(doc)    #create a document builder\n",
    "Builder.write(“Hello Word”)     #Wriet text in document\n",
    "Doc.save(“name.docx”)      #Save the document"
   ]
  },
  {
   "cell_type": "markdown",
   "id": "0e416258",
   "metadata": {},
   "source": [
    "11.\tHow do you add a paragraph with the text 'Hello, there!' to a Document object stored in a variable named doc?\n"
   ]
  },
  {
   "cell_type": "markdown",
   "id": "236d7ede",
   "metadata": {},
   "source": [
    "Ans:\n",
    "Import aspose.word as aw\n",
    "Doc = aw.document()       #create a document\n",
    "Builder = aw.DocumentBuilder(doc)    #create a document builder\n",
    "Builder.write(“Hello Word”)     #Wriet text in document\n",
    "Doc.save(“name.docx”)      #Save the document"
   ]
  },
  {
   "cell_type": "markdown",
   "id": "687f2953",
   "metadata": {},
   "source": [
    "12.\tWhat integers represent the levels of headings available in Word documents?\n"
   ]
  },
  {
   "cell_type": "markdown",
   "id": "0abb3af0",
   "metadata": {},
   "source": [
    "Ans: You can number headings so that top-level headings (Heading 1) are numbered 1, 2, 3, for example, and second-level headings (Heading 2) are numbered 1.1, 1.2, 1.3. Open your document that uses built-in heading styles, and select the first Heading 1. On the Home tab, in the Paragraph group, choose Multilevel List."
   ]
  }
 ],
 "metadata": {
  "kernelspec": {
   "display_name": "Python 3 (ipykernel)",
   "language": "python",
   "name": "python3"
  },
  "language_info": {
   "codemirror_mode": {
    "name": "ipython",
    "version": 3
   },
   "file_extension": ".py",
   "mimetype": "text/x-python",
   "name": "python",
   "nbconvert_exporter": "python",
   "pygments_lexer": "ipython3",
   "version": "3.9.7"
  }
 },
 "nbformat": 4,
 "nbformat_minor": 5
}
