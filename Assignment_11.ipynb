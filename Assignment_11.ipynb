{
 "cells": [
  {
   "cell_type": "markdown",
   "id": "2f871ec1",
   "metadata": {},
   "source": [
    "1.\tCreate an assert statement that throws an AssertionError if the variable spam is a negative integer.\n"
   ]
  },
  {
   "cell_type": "code",
   "execution_count": 1,
   "id": "66bbdee1",
   "metadata": {},
   "outputs": [
    {
     "name": "stdout",
     "output_type": "stream",
     "text": [
      "-2\n"
     ]
    },
    {
     "ename": "Exception",
     "evalue": "AssertionError",
     "output_type": "error",
     "traceback": [
      "\u001b[1;31m---------------------------------------------------------------------------\u001b[0m",
      "\u001b[1;31mException\u001b[0m                                 Traceback (most recent call last)",
      "\u001b[1;32mC:\\Users\\ALTEM-~1\\AppData\\Local\\Temp/ipykernel_13712/2620349255.py\u001b[0m in \u001b[0;36m<module>\u001b[1;34m\u001b[0m\n\u001b[0;32m      2\u001b[0m \u001b[0mspam\u001b[0m \u001b[1;33m=\u001b[0m \u001b[0mint\u001b[0m\u001b[1;33m(\u001b[0m\u001b[0minput\u001b[0m\u001b[1;33m(\u001b[0m\u001b[1;33m)\u001b[0m\u001b[1;33m)\u001b[0m\u001b[1;33m\u001b[0m\u001b[1;33m\u001b[0m\u001b[0m\n\u001b[0;32m      3\u001b[0m \u001b[1;32mif\u001b[0m \u001b[0mspam\u001b[0m \u001b[1;33m<\u001b[0m \u001b[1;36m0\u001b[0m\u001b[1;33m:\u001b[0m\u001b[1;33m\u001b[0m\u001b[1;33m\u001b[0m\u001b[0m\n\u001b[1;32m----> 4\u001b[1;33m     \u001b[1;32mraise\u001b[0m \u001b[0mException\u001b[0m\u001b[1;33m(\u001b[0m\u001b[1;34m\"AssertionError\"\u001b[0m\u001b[1;33m)\u001b[0m\u001b[1;33m\u001b[0m\u001b[1;33m\u001b[0m\u001b[0m\n\u001b[0m\u001b[0;32m      5\u001b[0m \u001b[1;32melse\u001b[0m\u001b[1;33m:\u001b[0m\u001b[1;33m\u001b[0m\u001b[1;33m\u001b[0m\u001b[0m\n\u001b[0;32m      6\u001b[0m     \u001b[0mprint\u001b[0m\u001b[1;33m(\u001b[0m\u001b[1;34m\"input is okay\"\u001b[0m\u001b[1;33m)\u001b[0m\u001b[1;33m\u001b[0m\u001b[1;33m\u001b[0m\u001b[0m\n",
      "\u001b[1;31mException\u001b[0m: AssertionError"
     ]
    }
   ],
   "source": [
    "#Ans: \n",
    "spam = int(input())\n",
    "if spam < 0:\n",
    "    raise Exception(\"AssertionError\")\n",
    "else:\n",
    "    print(\"input is okay\")"
   ]
  },
  {
   "cell_type": "markdown",
   "id": "e40bf144",
   "metadata": {},
   "source": [
    "2.\tWrite an assert statement that triggers an AssertionError if the variables eggs and bacon contain strings that are the same as each other, even if their cases are different (that is, 'hello' and 'hello' are considered the same, and 'goodbye' and 'GOODbye' are also considered the same).\n"
   ]
  },
  {
   "cell_type": "code",
   "execution_count": null,
   "id": "e6944de1",
   "metadata": {},
   "outputs": [],
   "source": [
    "#Ans: \n",
    "eggs = input(\"Enter first string:  \")\n",
    "bacon = input(\"Enter second string:  \")\n",
    "eggs = eggs.lower()\n",
    "bacon = bacon.lower()\n",
    "if eggs == bacon:\n",
    "    raise Exception(\"AssertionError\")\n",
    "else:\n",
    "    (\"Input is okay\")"
   ]
  },
  {
   "cell_type": "markdown",
   "id": "bfb7c05c",
   "metadata": {},
   "source": [
    "3.\tCreate an assert statement that throws an AssertionError every time.\n",
    " "
   ]
  },
  {
   "cell_type": "markdown",
   "id": "948f5982",
   "metadata": {},
   "source": [
    "Ans: raise Exception(\"Assertion Error\")  "
   ]
  },
  {
   "cell_type": "code",
   "execution_count": null,
   "id": "8c2d552e",
   "metadata": {},
   "outputs": [],
   "source": [
    "4.\tWhat are the two lines that must be present in your software in order to call logging.debug()?\n"
   ]
  },
  {
   "cell_type": "code",
   "execution_count": null,
   "id": "3a4ecc88",
   "metadata": {},
   "outputs": [],
   "source": [
    "Ans: import logging as lg\n",
    "lg.basicConfig(filename = \"Enter absolute path of file name\" , level = lg.DEBUG)"
   ]
  },
  {
   "cell_type": "code",
   "execution_count": null,
   "id": "f77c233f",
   "metadata": {},
   "outputs": [],
   "source": [
    "5.\tWhat are the two lines that your program must have in order to have logging.debug() send a logging message to a file named programLog.txt"
   ]
  },
  {
   "cell_type": "code",
   "execution_count": null,
   "id": "6ff107b4",
   "metadata": {},
   "outputs": [],
   "source": [
    "Ans: import logging as lg\n",
    "lg.basicConfig(filename = \"‪C:\\\\Users\\\\ALTEM-SERVER\\\\programLog.log\" , level = lg.DEBUG)‬\n",
    "lg.DEBUG(\"Add a message here\")"
   ]
  },
  {
   "cell_type": "code",
   "execution_count": null,
   "id": "d7469908",
   "metadata": {},
   "outputs": [],
   "source": [
    "6.\tWhat are the five levels of logging?\n"
   ]
  },
  {
   "cell_type": "code",
   "execution_count": null,
   "id": "bf743057",
   "metadata": {},
   "outputs": [],
   "source": [
    "Ans: Debug, Info, Warning, Error, Critical"
   ]
  },
  {
   "cell_type": "code",
   "execution_count": null,
   "id": "23cc640d",
   "metadata": {},
   "outputs": [],
   "source": [
    "7.\tWhat line of code would you add to your software to disable all logging messages?\n"
   ]
  },
  {
   "cell_type": "code",
   "execution_count": null,
   "id": "98d1d248",
   "metadata": {},
   "outputs": [],
   "source": [
    "Ans:\n",
    "If logging module is imported and need to be disabled thi command is used.\n",
    "Import logging\n",
    "Logging.basicConfig(filename = “Enter name of a file” , level = logging.ERROR)\n",
    "Logging.disable(logging.ERROR)"
   ]
  },
  {
   "cell_type": "markdown",
   "id": "18e7c0b9",
   "metadata": {},
   "source": [
    "8.Why is using logging messages better than using print() to display the same message?\n"
   ]
  },
  {
   "cell_type": "markdown",
   "id": "a4a859a1",
   "metadata": {},
   "source": [
    "Ans: with the logging file we can save different level of information in log file with print statement this is not possible. We can easily on and of the logging messages and on and of different level of messages, like if we don’t want debug messages and if we want only error messages we can change logging level accordingly and get the required output. "
   ]
  },
  {
   "cell_type": "code",
   "execution_count": null,
   "id": "ca6a3de8",
   "metadata": {},
   "outputs": [],
   "source": [
    "8.\tWhat are the differences between the Step Over, Step In, and Step Out buttons in the debugger?\n"
   ]
  },
  {
   "cell_type": "markdown",
   "id": "6097ad6f",
   "metadata": {},
   "source": [
    "Ans: Step Over: An action to take in debugger that will step over a given line. If line contain a function it will execute it and returns the results with out debugging each line. \n",
    "Step In: An action to take in debugger . If line does no contains function than it will behave as a step over but if the function is present in the line it will call the function and start debugging it line by line.\n",
    "Step Out: An action to take in debugger that returns to the line where current function where called."
   ]
  },
  {
   "cell_type": "code",
   "execution_count": null,
   "id": "7e95b545",
   "metadata": {},
   "outputs": [],
   "source": [
    "10.After you click Continue, when will the debugger stop ?\n"
   ]
  },
  {
   "cell_type": "code",
   "execution_count": null,
   "id": "a09c354c",
   "metadata": {},
   "outputs": [],
   "source": [
    "Ans: to stop the debugger place ctrl + c."
   ]
  },
  {
   "cell_type": "markdown",
   "id": "afe64bc0",
   "metadata": {},
   "source": [
    "11. What is the concept of a breakpoint?\n"
   ]
  },
  {
   "cell_type": "markdown",
   "id": "7e161ed3",
   "metadata": {},
   "source": [
    "Ans: In software development, a breakpoint is an intentional stopping or pausing place in a program, put in place for debugging purposes. It is also sometimes simply referred to as a pause. More generally, a breakpoint is a means of acquiring knowledge about a program during its execution."
   ]
  }
 ],
 "metadata": {
  "kernelspec": {
   "display_name": "Python 3 (ipykernel)",
   "language": "python",
   "name": "python3"
  },
  "language_info": {
   "codemirror_mode": {
    "name": "ipython",
    "version": 3
   },
   "file_extension": ".py",
   "mimetype": "text/x-python",
   "name": "python",
   "nbconvert_exporter": "python",
   "pygments_lexer": "ipython3",
   "version": "3.9.7"
  }
 },
 "nbformat": 4,
 "nbformat_minor": 5
}
