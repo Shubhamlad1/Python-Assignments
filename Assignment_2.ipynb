{
 "cells": [
  {
   "cell_type": "markdown",
   "id": "df23c42c",
   "metadata": {},
   "source": [
    "1.What are the two values of the Boolean data type? How do you write them?\n",
    "Ans: Two values of Boolean data : True and False.\n",
    "    Way of writing in Python is 1st letter capital. (True , False)\n"
   ]
  },
  {
   "cell_type": "markdown",
   "id": "14c53656",
   "metadata": {},
   "source": [
    "2. What are the three different types of Boolean operators?\n",
    "Ans: AND, OR and NOT are the three different types for Boolean operators.\n"
   ]
  },
  {
   "attachments": {},
   "cell_type": "markdown",
   "id": "1e12dce7",
   "metadata": {},
   "source": [
    "3. Make a list of each Boolean operator's truth tables (i.e. every possible combination of Boolean values for the operator and what it evaluate ).\n",
    "Ans: AND & OR Table\n",
    "\t \t \n",
    "I/P1\tI/P2\tAND O/P\tOR O/P\n",
    "0\t1\t0\t1\n",
    "0\t0\t0\t0\n",
    "1\t1\t1\t1\n",
    "1\t0\t0\t1\n",
    "\n",
    "NOT Table:\n",
    "\n",
    "I/P\tNOT O/P\n",
    "1\t0\n",
    "0\t1\n",
    "\n"
   ]
  },
  {
   "cell_type": "markdown",
   "id": "f0bdaf94",
   "metadata": {},
   "source": [
    "4. What are the values of the following expressions?\n",
    "Ans:\n",
    "    (5 > 4) and (3 == 5)   : False\n",
    "    not (5 > 4)  : False\n",
    "    (5 > 4) or (3 == 5) : True\n",
    "    not ((5 > 4) or (3 == 5)) : False\n",
    "    (True and True) and (True == False)  : False\n",
    "    (not False) or (not True)  : True\n"
   ]
  },
  {
   "cell_type": "markdown",
   "id": "99a4d865",
   "metadata": {},
   "source": [
    "5. What are the six comparison operators?\n",
    "Ans:  < : Less than              > : Greater than\n",
    "      <= : Less than Equal to    >= : Greater than equal to\n",
    "       == : Equal to             != : Not equal to\n"
   ]
  },
  {
   "cell_type": "markdown",
   "id": "2c6eff22",
   "metadata": {},
   "source": [
    "6. How do you tell the difference between the equal to and assignment operators?Describe a condition and when you would use one.\n",
    "Ans: Equal to assignment operator (=) : a = “assignment Operator”   here in this case = assignment operator will assign value which is on right side to the variable on left side. \n",
    "Comparison Operator (==) : 30 == 40   here in this case python will try to compare the value of left hand side with right hand side and gives the output in True and False.\n"
   ]
  },
  {
   "cell_type": "markdown",
   "id": "213e3934",
   "metadata": {},
   "source": [
    "7. Identify the three blocks in this code:\n",
    "spam = 0\n",
    "if spam == 10:\n",
    "print('eggs')\n",
    "if spam > 5:\n",
    "print('bacon')\n",
    "else:\n",
    "print('ham')\n",
    "print('spam')\n",
    "print('spam')\n",
    "\n",
    "Ans:\n",
    "\n",
    "Block 1:  spam = 0\n",
    "\n",
    "Block 2: \n",
    "if spam == 10:\n",
    "    print('eggs')\n",
    "elif spam > 5:\n",
    "    print('bacon')\n",
    "else:\n",
    "    print('ham')\n",
    "\n",
    "Block 3: \n",
    "print('spam')\n",
    "print('spam')\n"
   ]
  },
  {
   "cell_type": "markdown",
   "id": "204a0b93",
   "metadata": {},
   "source": [
    "8. Write code that prints Hello if 1 is stored in spam, prints Howdy if 2 is stored in spam, and prints Greetings! if anything else is stored in spam.\n",
    "Ans:\n",
    "\n",
    "\ttry:\n",
    "    spam = int(input())\n",
    "    if spam == 1:\n",
    "        print(\"Hellow\")\n",
    "    elif spam == 2:\n",
    "        print(\"Howdy\")\n",
    "    else:\n",
    "        print(\"Greetings\")\n",
    "    except Exception as e:\n",
    "        print(\"Entered value is not Integer\")\n"
   ]
  },
  {
   "cell_type": "markdown",
   "id": "27f45a11",
   "metadata": {},
   "source": [
    "9.If your programme is stuck in an endless loop, what keys you’ll press?\n",
    "Ans: Interrupt the Kernel \n"
   ]
  },
  {
   "cell_type": "markdown",
   "id": "fab6ca05",
   "metadata": {},
   "source": [
    "10. How can you tell the difference between break and continue?\n",
    "Ans:\n",
    "Break:  If condition given for break becomes True, Break command will activate and will break the loop.\n",
    "\n",
    "Continue: When condition given for continue statements become true, command will activate and skip the part of loop below continue and will restart the loop.\n"
   ]
  },
  {
   "cell_type": "markdown",
   "id": "80506479",
   "metadata": {},
   "source": [
    "11. In a for loop, what is the difference between range(10), range(0, 10), and range(0, 10, 1)?\n",
    "Ans: All three commands are same. \n"
   ]
  },
  {
   "cell_type": "markdown",
   "id": "698ffb13",
   "metadata": {},
   "source": [
    "12. Write a short program that prints the numbers 1 to 10 using a for loop. Then write an equivalent program that prints the numbers 1 to 10 using a while loop.\n",
    "Ans:\n",
    "\n",
    "for i in range(1,11):\n",
    "    print(i)\n",
    "\n",
    "a = 1\n",
    "while a<=10:\n",
    "    print(a)\n",
    "    a = a+1\n"
   ]
  },
  {
   "cell_type": "markdown",
   "id": "6a69b42c",
   "metadata": {},
   "source": [
    "13. If you had a function named bacon() inside a module named spam, how would you call it after importing spam?\n",
    "And:  Function can be called by its name itself. Like :  bacon()\n"
   ]
  }
 ],
 "metadata": {
  "kernelspec": {
   "display_name": "Python 3 (ipykernel)",
   "language": "python",
   "name": "python3"
  },
  "language_info": {
   "codemirror_mode": {
    "name": "ipython",
    "version": 3
   },
   "file_extension": ".py",
   "mimetype": "text/x-python",
   "name": "python",
   "nbconvert_exporter": "python",
   "pygments_lexer": "ipython3",
   "version": "3.9.7"
  }
 },
 "nbformat": 4,
 "nbformat_minor": 5
}
