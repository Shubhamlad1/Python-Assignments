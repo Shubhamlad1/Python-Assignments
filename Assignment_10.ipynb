{
 "cells": [
  {
   "cell_type": "markdown",
   "id": "aa52dfdb",
   "metadata": {},
   "source": [
    "1.\tHow do you distinguish between shutil.copy() and shutil.copytree()?\n"
   ]
  },
  {
   "cell_type": "markdown",
   "id": "93f9d53e",
   "metadata": {},
   "source": [
    "Ans: shutil.copy() : with this function we can copya single file. It requires 2 inputs 1st is file name that should be copied and other input is the directory path where we want to copy.\n",
    "Shutil.copytree(): This function is used to copy entire folder. It also requires 2 inputs. First is directory from where we want to copy and other input is also a directory where we want to pest the entire folder."
   ]
  },
  {
   "cell_type": "markdown",
   "id": "d181db7f",
   "metadata": {},
   "source": [
    "2.\tWhat function is used to rename files??\n"
   ]
  },
  {
   "cell_type": "markdown",
   "id": "2b5a5c29",
   "metadata": {},
   "source": [
    "Ans: os.rename(a,b)\n",
    "A = name of the old file which is to be replace\n",
    "B = new name of the file"
   ]
  },
  {
   "cell_type": "markdown",
   "id": "3e143245",
   "metadata": {},
   "source": [
    "3.\tWhat is the difference between the delete functions in the send2trash and shutil modules?\n"
   ]
  },
  {
   "cell_type": "markdown",
   "id": "10a487af",
   "metadata": {},
   "source": [
    "Ans: In the shutil module delete function removes the file permanently but in send2trash module it removes the file but adds it into recycle bin.\n",
    "4.ZipFile objects have a close() method just like File objects’ close() method. What ZipFile method is equivalent to File objects’ open() method?\n",
    "Ans: Ifwe open a zip file in such a way :\n",
    "From zipfile import ZipFile\n",
    "With ZipFile(“File name to be opend.zip” , “Mode”) as Zip:\n",
    "\tIn this case after running a program It wil close the file automatically we don’t require any such operations to close the file."
   ]
  },
  {
   "cell_type": "markdown",
   "id": "bcdfa499",
   "metadata": {},
   "source": [
    "4.\tCreate a programme that searches a folder tree for files with a certain file extension (such as .pdf or .jpg). Copy these files from whatever location they are in to a new folder.\n"
   ]
  },
  {
   "cell_type": "markdown",
   "id": "a6d1e56d",
   "metadata": {},
   "source": [
    "Ans\n",
    "import os, shutil\n",
    "\n",
    "class CopyPaste:\n",
    "\n",
    "    def __init__(self, currentlocation: str, desti : str, file_input:str):\n",
    "        self.currentlocation = currentlocation\n",
    "        self.desti = desti\n",
    "        self.file_input = file_input\n",
    "\n",
    "    def copy_paste(self):\n",
    "        try:\n",
    "            os.chdir(self.currentlocation)\n",
    "            shutil.copy(src=self.file_input, dst=self.desti)\n",
    "        except Exception as e:\n",
    "            print(e)\n",
    "\n",
    "if __name__ == \"__main__\":\n",
    "    try:\n",
    "        _currentlocation = input('Enter file location \\n')\n",
    "        _desti = input('Enter destination location \\n')\n",
    "        _file_input = input('File to be copy \\n')\n",
    "    except Exception as e:\n",
    "        print(e)\n",
    "\n",
    "    obj1 = CopyPaste(_currentlocation, _desti, _file_input)\n",
    "    obj1.copy_paste()"
   ]
  }
 ],
 "metadata": {
  "kernelspec": {
   "display_name": "Python 3 (ipykernel)",
   "language": "python",
   "name": "python3"
  },
  "language_info": {
   "codemirror_mode": {
    "name": "ipython",
    "version": 3
   },
   "file_extension": ".py",
   "mimetype": "text/x-python",
   "name": "python",
   "nbconvert_exporter": "python",
   "pygments_lexer": "ipython3",
   "version": "3.9.7"
  }
 },
 "nbformat": 4,
 "nbformat_minor": 5
}
